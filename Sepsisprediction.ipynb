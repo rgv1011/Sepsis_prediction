{
  "cells": [
    {
      "cell_type": "code",
      "execution_count": null,
      "metadata": {
        "id": "GRDeRpEPn5K2"
      },
      "outputs": [],
      "source": [
        "# Importing Libraries\n",
        "import pandas as pd\n",
        "import numpy as np\n",
        "import matplotlib.pyplot as plt\n",
        "from sklearn.model_selection import train_test_split\n",
        "from sklearn.preprocessing import MinMaxScaler\n",
        "from sklearn.metrics import classification_report, confusion_matrix\n",
        "import tensorflow as tf\n",
        "from tensorflow.keras.models import Sequential\n",
        "from tensorflow.keras.layers import LSTM, Dense, Dropout\n",
        "from tensorflow.keras.callbacks import EarlyStopping"
      ]
    },
    {
      "cell_type": "code",
      "execution_count": null,
      "metadata": {
        "id": "vrmzgshPoDny"
      },
      "outputs": [],
      "source": [
        "# Load Dataset\n",
        "data = pd.read_csv('sepsis.csv')"
      ]
    },
    {
      "cell_type": "code",
      "execution_count": null,
      "metadata": {
        "id": "58pf3I9WouUM"
      },
      "outputs": [],
      "source": [
        "# Preprocess the Data\n",
        "if 'ICULOS' in data.columns:\n",
        "    data = data.drop(columns=['ICULOS'])\n",
        "data.fillna(data.mean(), inplace=True)\n",
        "\n",
        "features = data.drop(columns=['SepsisLabel'])\n",
        "labels = data['SepsisLabel']\n",
        "\n",
        "scaler = MinMaxScaler()\n",
        "features_scaled = scaler.fit_transform(features)"
      ]
    },
    {
      "cell_type": "code",
      "execution_count": null,
      "metadata": {
        "id": "L6i6c7XJozcW"
      },
      "outputs": [],
      "source": [
        "def create_sequences(data, labels, seq_length=12):\n",
        "    xs, ys = [], []\n",
        "    for i in range(len(data) - seq_length):\n",
        "        x = data[i:i+seq_length]\n",
        "        y = labels[i+seq_length]\n",
        "        xs.append(x)\n",
        "        ys.append(y)\n",
        "    return np.array(xs), np.array(ys)"
      ]
    },
    {
      "cell_type": "code",
      "execution_count": null,
      "metadata": {
        "id": "vDBLCOaso2i2"
      },
      "outputs": [],
      "source": [
        "X, y = create_sequences(features_scaled, labels.values)\n",
        "\n",
        "# Train-test split\n",
        "X_train, X_test, y_train, y_test = train_test_split(X, y, test_size=0.2, random_state=42)"
      ]
    },
    {
      "cell_type": "code",
      "execution_count": null,
      "metadata": {
        "colab": {
          "base_uri": "https://localhost:8080/"
        },
        "id": "EYqI7sETo5O1",
        "outputId": "b57eaeff-34a4-47d3-b686-b0e87e6368e9"
      },
      "outputs": [
        {
          "name": "stderr",
          "output_type": "stream",
          "text": [
            "/usr/local/lib/python3.11/dist-packages/keras/src/layers/rnn/rnn.py:200: UserWarning: Do not pass an `input_shape`/`input_dim` argument to a layer. When using Sequential models, prefer using an `Input(shape)` object as the first layer in the model instead.\n",
            "  super().__init__(**kwargs)\n"
          ]
        }
      ],
      "source": [
        "# LSTM Model\n",
        "model = Sequential([\n",
        "    LSTM(64, input_shape=(X_train.shape[1], X_train.shape[2]), return_sequences=False),\n",
        "    Dropout(0.3),\n",
        "    Dense(1024, activation='relu'),\n",
        "    Dense(512, activation='relu'),\n",
        "    Dense(256, activation='relu'),\n",
        "    Dense(128, activation='relu'),\n",
        "\n",
        "    Dense(1, activation='sigmoid')\n",
        "])\n",
        "\n",
        "model.compile(optimizer='adam', loss='binary_crossentropy', metrics=['accuracy'])"
      ]
    },
    {
      "cell_type": "code",
      "execution_count": null,
      "metadata": {
        "colab": {
          "background_save": true,
          "base_uri": "https://localhost:8080/"
        },
        "id": "6KbT-E0Ho7sa",
        "outputId": "9f2168c7-9768-4787-8d89-40afedf2f4d0"
      },
      "outputs": [
        {
          "name": "stdout",
          "output_type": "stream",
          "text": [
            "Epoch 1/10\n",
            "\u001b[1m776/776\u001b[0m \u001b[32m━━━━━━━━━━━━━━━━━━━━\u001b[0m\u001b[37m\u001b[0m \u001b[1m25s\u001b[0m 26ms/step - accuracy: 0.9690 - loss: 0.1437 - val_accuracy: 0.9781 - val_loss: 0.1003\n",
            "Epoch 2/10\n",
            "\u001b[1m776/776\u001b[0m \u001b[32m━━━━━━━━━━━━━━━━━━━━\u001b[0m\u001b[37m\u001b[0m \u001b[1m21s\u001b[0m 27ms/step - accuracy: 0.9769 - loss: 0.1057 - val_accuracy: 0.9781 - val_loss: 0.0954\n",
            "Epoch 3/10\n",
            "\u001b[1m776/776\u001b[0m \u001b[32m━━━━━━━━━━━━━━━━━━━━\u001b[0m\u001b[37m\u001b[0m \u001b[1m42s\u001b[0m 28ms/step - accuracy: 0.9774 - loss: 0.1011 - val_accuracy: 0.9781 - val_loss: 0.0946\n",
            "Epoch 4/10\n",
            "\u001b[1m776/776\u001b[0m \u001b[32m━━━━━━━━━━━━━━━━━━━━\u001b[0m\u001b[37m\u001b[0m \u001b[1m41s\u001b[0m 28ms/step - accuracy: 0.9775 - loss: 0.0970 - val_accuracy: 0.9781 - val_loss: 0.1031\n",
            "Epoch 5/10\n",
            "\u001b[1m776/776\u001b[0m \u001b[32m━━━━━━━━━━━━━━━━━━━━\u001b[0m\u001b[37m\u001b[0m \u001b[1m40s\u001b[0m 27ms/step - accuracy: 0.9767 - loss: 0.1000 - val_accuracy: 0.9781 - val_loss: 0.0916\n",
            "Epoch 6/10\n",
            "\u001b[1m776/776\u001b[0m \u001b[32m━━━━━━━━━━━━━━━━━━━━\u001b[0m\u001b[37m\u001b[0m \u001b[1m19s\u001b[0m 25ms/step - accuracy: 0.9737 - loss: 0.1051 - val_accuracy: 0.9781 - val_loss: 0.0914\n",
            "Epoch 7/10\n",
            "\u001b[1m776/776\u001b[0m \u001b[32m━━━━━━━━━━━━━━━━━━━━\u001b[0m\u001b[37m\u001b[0m \u001b[1m22s\u001b[0m 26ms/step - accuracy: 0.9769 - loss: 0.0903 - val_accuracy: 0.9783 - val_loss: 0.0893\n",
            "Epoch 8/10\n",
            "\u001b[1m776/776\u001b[0m \u001b[32m━━━━━━━━━━━━━━━━━━━━\u001b[0m\u001b[37m\u001b[0m \u001b[1m19s\u001b[0m 24ms/step - accuracy: 0.9775 - loss: 0.0892 - val_accuracy: 0.9776 - val_loss: 0.0878\n",
            "Epoch 9/10\n",
            "\u001b[1m776/776\u001b[0m \u001b[32m━━━━━━━━━━━━━━━━━━━━\u001b[0m\u001b[37m\u001b[0m \u001b[1m22s\u001b[0m 26ms/step - accuracy: 0.9771 - loss: 0.0898 - val_accuracy: 0.9783 - val_loss: 0.0909\n",
            "Epoch 10/10\n",
            "\u001b[1m776/776\u001b[0m \u001b[32m━━━━━━━━━━━━━━━━━━━━\u001b[0m\u001b[37m\u001b[0m \u001b[1m41s\u001b[0m 26ms/step - accuracy: 0.9782 - loss: 0.0866 - val_accuracy: 0.9778 - val_loss: 0.0884\n"
          ]
        }
      ],
      "source": [
        "# Training\n",
        "early_stop = EarlyStopping(monitor='val_loss', patience=3)\n",
        "history = model.fit(X_train, y_train, validation_split=0.2, epochs=10, batch_size=32, callbacks=[early_stop])\n"
      ]
    },
    {
      "cell_type": "code",
      "execution_count": null,
      "metadata": {
        "colab": {
          "background_save": true
        },
        "id": "zQU6Y8XOo-cp",
        "outputId": "9e8eb8e6-3e9d-4d34-f14a-5f01a87ddb21"
      },
      "outputs": [
        {
          "name": "stdout",
          "output_type": "stream",
          "text": [
            "\u001b[1m243/243\u001b[0m \u001b[32m━━━━━━━━━━━━━━━━━━━━\u001b[0m\u001b[37m\u001b[0m \u001b[1m3s\u001b[0m 10ms/step - accuracy: 0.9753 - loss: 0.0928\n",
            "\n",
            "Test Accuracy: 0.9793\n"
          ]
        }
      ],
      "source": [
        "#Accuracy prediction\n",
        "loss, accuracy = model.evaluate(X_test, y_test)\n",
        "print(f\"\\nTest Accuracy: {accuracy:.4f}\")"
      ]
    },
    {
      "cell_type": "code",
      "execution_count": null,
      "metadata": {
        "colab": {
          "background_save": true
        },
        "id": "PkjaMU0ypA4H",
        "outputId": "1708f1f7-ab2f-42d6-e766-35a5981b30cc"
      },
      "outputs": [
        {
          "name": "stdout",
          "output_type": "stream",
          "text": [
            "\u001b[1m243/243\u001b[0m \u001b[32m━━━━━━━━━━━━━━━━━━━━\u001b[0m\u001b[37m\u001b[0m \u001b[1m2s\u001b[0m 6ms/step\n",
            "              precision    recall  f1-score   support\n",
            "\n",
            "           0       0.98      1.00      0.99      7606\n",
            "           1       0.11      0.01      0.01       154\n",
            "\n",
            "    accuracy                           0.98      7760\n",
            "   macro avg       0.55      0.50      0.50      7760\n",
            "weighted avg       0.96      0.98      0.97      7760\n",
            "\n"
          ]
        }
      ],
      "source": [
        "# confusion matrix\n",
        "y_pred = (model.predict(X_test) > 0.5).astype(\"int32\")\n",
        "print(classification_report(y_test, y_pred))"
      ]
    },
    {
      "cell_type": "code",
      "execution_count": null,
      "metadata": {
        "colab": {
          "background_save": true
        },
        "id": "m_r_entDpDiv",
        "outputId": "b043825c-5fab-4882-cd93-c3961edfc53b"
      },
      "outputs": [
        {
          "data": {
            "image/png": "[encoded data removed]",
            "text/plain": [
              "<Figure size 1200x500 with 2 Axes>"
            ]
          },
          "metadata": {},
          "output_type": "display_data"
        }
      ],
      "source": [
        "# Graph\n",
        "plt.figure(figsize=(12, 5))\n",
        "plt.subplot(1, 2, 1)\n",
        "plt.plot(history.history['accuracy'], label=\"Train Acc\")\n",
        "plt.plot(history.history['val_accuracy'], label=\"Val Acc\")\n",
        "plt.title(\"Accuracy\")\n",
        "plt.legend()\n",
        "\n",
        "plt.subplot(1, 2, 2)\n",
        "plt.plot(history.history['loss'], label=\"Train Loss\")\n",
        "plt.plot(history.history['val_loss'], label=\"Val Loss\")\n",
        "plt.title(\"Loss\")\n",
        "plt.legend()\n",
        "plt.show()"
      ]
    },
    {
      "cell_type": "code",
      "execution_count": null,
      "metadata": {
        "colab": {
          "background_save": true
        },
        "id": "MUafgKPRpHf2",
        "outputId": "7f04a49a-08b7-46ff-c2a0-7d84b10606b8"
      },
      "outputs": [
        {
          "name": "stderr",
          "output_type": "stream",
          "text": [
            "WARNING:absl:You are saving your model as an HDF5 file via `model.save()` or `keras.saving.save_model(model)`. This file format is considered legacy. We recommend using instead the native Keras format, e.g. `model.save('my_model.keras')` or `keras.saving.save_model(model, 'my_model.keras')`. \n"
          ]
        }
      ],
      "source": [
        "#Saving\n",
        "model.save(\"models/saved_model.h5\")"
      ]
    },
    {
      "cell_type": "code",
      "execution_count": null,
      "metadata": {
        "colab": {
          "background_save": true
        },
        "id": "FpM-JEhKtS6F",
        "outputId": "9721ada0-6334-4ad8-b1cd-1d57916b535d"
      },
      "outputs": [
        {
          "ename": "ValueError",
          "evalue": "The feature names should match those that were passed during fit.\nFeature names unseen at fit time:\n- HeartRate\n- SpO2\n- Temperature\nFeature names seen at fit time, yet now missing:\n- AST\n- Age\n- Alkalinephos\n- BUN\n- BaseExcess\n- ...\n",
          "output_type": "error",
          "traceback": [
            "\u001b[0;31m---------------------------------------------------------------------------\u001b[0m",
            "\u001b[0;31mValueError\u001b[0m                                Traceback (most recent call last)",
            "\u001b[0;32m<ipython-input-27-ea08644af23e>\u001b[0m in \u001b[0;36m<cell line: 0>\u001b[0;34m()\u001b[0m\n\u001b[1;32m     11\u001b[0m \u001b[0mnew_input_df\u001b[0m \u001b[0;34m=\u001b[0m \u001b[0mpd\u001b[0m\u001b[0;34m.\u001b[0m\u001b[0mDataFrame\u001b[0m\u001b[0;34m(\u001b[0m\u001b[0mnew_input_data\u001b[0m\u001b[0;34m)\u001b[0m\u001b[0;34m\u001b[0m\u001b[0;34m\u001b[0m\u001b[0m\n\u001b[1;32m     12\u001b[0m \u001b[0;31m# Normalize\u001b[0m\u001b[0;34m\u001b[0m\u001b[0;34m\u001b[0m\u001b[0m\n\u001b[0;32m---> 13\u001b[0;31m \u001b[0mnew_input_scaled\u001b[0m \u001b[0;34m=\u001b[0m \u001b[0mscaler\u001b[0m\u001b[0;34m.\u001b[0m\u001b[0mtransform\u001b[0m\u001b[0;34m(\u001b[0m\u001b[0mnew_input_df\u001b[0m\u001b[0;34m)\u001b[0m\u001b[0;34m\u001b[0m\u001b[0;34m\u001b[0m\u001b[0m\n\u001b[0m\u001b[1;32m     14\u001b[0m \u001b[0;34m\u001b[0m\u001b[0m\n\u001b[1;32m     15\u001b[0m \u001b[0msequence_length\u001b[0m \u001b[0;34m=\u001b[0m \u001b[0;36m12\u001b[0m\u001b[0;34m\u001b[0m\u001b[0;34m\u001b[0m\u001b[0m\n",
            "\u001b[0;32m/usr/local/lib/python3.11/dist-packages/sklearn/utils/_set_output.py\u001b[0m in \u001b[0;36mwrapped\u001b[0;34m(self, X, *args, **kwargs)\u001b[0m\n\u001b[1;32m    317\u001b[0m     \u001b[0;34m@\u001b[0m\u001b[0mwraps\u001b[0m\u001b[0;34m(\u001b[0m\u001b[0mf\u001b[0m\u001b[0;34m)\u001b[0m\u001b[0;34m\u001b[0m\u001b[0;34m\u001b[0m\u001b[0m\n\u001b[1;32m    318\u001b[0m     \u001b[0;32mdef\u001b[0m \u001b[0mwrapped\u001b[0m\u001b[0;34m(\u001b[0m\u001b[0mself\u001b[0m\u001b[0;34m,\u001b[0m \u001b[0mX\u001b[0m\u001b[0;34m,\u001b[0m \u001b[0;34m*\u001b[0m\u001b[0margs\u001b[0m\u001b[0;34m,\u001b[0m \u001b[0;34m**\u001b[0m\u001b[0mkwargs\u001b[0m\u001b[0;34m)\u001b[0m\u001b[0;34m:\u001b[0m\u001b[0;34m\u001b[0m\u001b[0;34m\u001b[0m\u001b[0m\n\u001b[0;32m--> 319\u001b[0;31m         \u001b[0mdata_to_wrap\u001b[0m \u001b[0;34m=\u001b[0m \u001b[0mf\u001b[0m\u001b[0;34m(\u001b[0m\u001b[0mself\u001b[0m\u001b[0;34m,\u001b[0m \u001b[0mX\u001b[0m\u001b[0;34m,\u001b[0m \u001b[0;34m*\u001b[0m\u001b[0margs\u001b[0m\u001b[0;34m,\u001b[0m \u001b[0;34m**\u001b[0m\u001b[0mkwargs\u001b[0m\u001b[0;34m)\u001b[0m\u001b[0;34m\u001b[0m\u001b[0;34m\u001b[0m\u001b[0m\n\u001b[0m\u001b[1;32m    320\u001b[0m         \u001b[0;32mif\u001b[0m \u001b[0misinstance\u001b[0m\u001b[0;34m(\u001b[0m\u001b[0mdata_to_wrap\u001b[0m\u001b[0;34m,\u001b[0m \u001b[0mtuple\u001b[0m\u001b[0;34m)\u001b[0m\u001b[0;34m:\u001b[0m\u001b[0;34m\u001b[0m\u001b[0;34m\u001b[0m\u001b[0m\n\u001b[1;32m    321\u001b[0m             \u001b[0;31m# only wrap the first output for cross decomposition\u001b[0m\u001b[0;34m\u001b[0m\u001b[0;34m\u001b[0m\u001b[0m\n",
            "\u001b[0;32m/usr/local/lib/python3.11/dist-packages/sklearn/preprocessing/_data.py\u001b[0m in \u001b[0;36mtransform\u001b[0;34m(self, X)\u001b[0m\n\u001b[1;32m    530\u001b[0m         \u001b[0mxp\u001b[0m\u001b[0;34m,\u001b[0m \u001b[0m_\u001b[0m \u001b[0;34m=\u001b[0m \u001b[0mget_namespace\u001b[0m\u001b[0;34m(\u001b[0m\u001b[0mX\u001b[0m\u001b[0;34m)\u001b[0m\u001b[0;34m\u001b[0m\u001b[0;34m\u001b[0m\u001b[0m\n\u001b[1;32m    531\u001b[0m \u001b[0;34m\u001b[0m\u001b[0m\n\u001b[0;32m--> 532\u001b[0;31m         X = validate_data(\n\u001b[0m\u001b[1;32m    533\u001b[0m             \u001b[0mself\u001b[0m\u001b[0;34m,\u001b[0m\u001b[0;34m\u001b[0m\u001b[0;34m\u001b[0m\u001b[0m\n\u001b[1;32m    534\u001b[0m             \u001b[0mX\u001b[0m\u001b[0;34m,\u001b[0m\u001b[0;34m\u001b[0m\u001b[0;34m\u001b[0m\u001b[0m\n",
            "\u001b[0;32m/usr/local/lib/python3.11/dist-packages/sklearn/utils/validation.py\u001b[0m in \u001b[0;36mvalidate_data\u001b[0;34m(_estimator, X, y, reset, validate_separately, skip_check_array, **check_params)\u001b[0m\n\u001b[1;32m   2917\u001b[0m         \u001b[0mvalidated\u001b[0m\u001b[0;34m.\u001b[0m\u001b[0;34m\u001b[0m\u001b[0;34m\u001b[0m\u001b[0m\n\u001b[1;32m   2918\u001b[0m     \"\"\"\n\u001b[0;32m-> 2919\u001b[0;31m     \u001b[0m_check_feature_names\u001b[0m\u001b[0;34m(\u001b[0m\u001b[0m_estimator\u001b[0m\u001b[0;34m,\u001b[0m \u001b[0mX\u001b[0m\u001b[0;34m,\u001b[0m \u001b[0mreset\u001b[0m\u001b[0;34m=\u001b[0m\u001b[0mreset\u001b[0m\u001b[0;34m)\u001b[0m\u001b[0;34m\u001b[0m\u001b[0;34m\u001b[0m\u001b[0m\n\u001b[0m\u001b[1;32m   2920\u001b[0m     \u001b[0mtags\u001b[0m \u001b[0;34m=\u001b[0m \u001b[0mget_tags\u001b[0m\u001b[0;34m(\u001b[0m\u001b[0m_estimator\u001b[0m\u001b[0;34m)\u001b[0m\u001b[0;34m\u001b[0m\u001b[0;34m\u001b[0m\u001b[0m\n\u001b[1;32m   2921\u001b[0m     \u001b[0;32mif\u001b[0m \u001b[0my\u001b[0m \u001b[0;32mis\u001b[0m \u001b[0;32mNone\u001b[0m \u001b[0;32mand\u001b[0m \u001b[0mtags\u001b[0m\u001b[0;34m.\u001b[0m\u001b[0mtarget_tags\u001b[0m\u001b[0;34m.\u001b[0m\u001b[0mrequired\u001b[0m\u001b[0;34m:\u001b[0m\u001b[0;34m\u001b[0m\u001b[0;34m\u001b[0m\u001b[0m\n",
            "\u001b[0;32m/usr/local/lib/python3.11/dist-packages/sklearn/utils/validation.py\u001b[0m in \u001b[0;36m_check_feature_names\u001b[0;34m(estimator, X, reset)\u001b[0m\n\u001b[1;32m   2775\u001b[0m             \u001b[0mmessage\u001b[0m \u001b[0;34m+=\u001b[0m \u001b[0;34m\"Feature names must be in the same order as they were in fit.\\n\"\u001b[0m\u001b[0;34m\u001b[0m\u001b[0;34m\u001b[0m\u001b[0m\n\u001b[1;32m   2776\u001b[0m \u001b[0;34m\u001b[0m\u001b[0m\n\u001b[0;32m-> 2777\u001b[0;31m         \u001b[0;32mraise\u001b[0m \u001b[0mValueError\u001b[0m\u001b[0;34m(\u001b[0m\u001b[0mmessage\u001b[0m\u001b[0;34m)\u001b[0m\u001b[0;34m\u001b[0m\u001b[0;34m\u001b[0m\u001b[0m\n\u001b[0m\u001b[1;32m   2778\u001b[0m \u001b[0;34m\u001b[0m\u001b[0m\n\u001b[1;32m   2779\u001b[0m \u001b[0;34m\u001b[0m\u001b[0m\n",
            "\u001b[0;31mValueError\u001b[0m: The feature names should match those that were passed during fit.\nFeature names unseen at fit time:\n- HeartRate\n- SpO2\n- Temperature\nFeature names seen at fit time, yet now missing:\n- AST\n- Age\n- Alkalinephos\n- BUN\n- BaseExcess\n- ...\n"
          ]
        }
      ],
      "source": [
        "# Predict Sepsis on New Input Data\n",
        "# run this if the data set is sepsis_sample.csv\n",
        "new_input_data = {\n",
        "    'HeartRate': [85],\n",
        "    'SBP': [120],\n",
        "    'DBP': [80],\n",
        "    'SpO2': [95],\n",
        "    'Temperature': [38.1]\n",
        "}\n",
        "\n",
        "new_input_df = pd.DataFrame(new_input_data)\n",
        "# Normalize\n",
        "new_input_scaled = scaler.transform(new_input_df)\n",
        "\n",
        "sequence_length = 12\n",
        "new_input_sequence = np.tile(new_input_scaled, (sequence_length, 1)).reshape(1, sequence_length, -1)\n",
        "predicted_proba = model.predict(new_input_sequence)\n",
        "predicted_label = 'Sepsis' if predicted_proba > 0.5 else 'No Sepsis'  #threshold is 0.5\n",
        "\n",
        "print(f\"Predicted Probability of Sepsis: {predicted_proba[0][0]:.4f}\")\n",
        "print(f\"Prediction: {predicted_label}\")\n"
      ]
    },
    {
      "cell_type": "code",
      "execution_count": 32,
      "metadata": {
        "colab": {
          "base_uri": "https://localhost:8080/"
        },
        "id": "A5SWp0G2uPOg",
        "outputId": "3d07fddf-b49a-4b51-dc50-8d06ce33b21f"
      },
      "outputs": [
        {
          "output_type": "stream",
          "name": "stdout",
          "text": [
            "\u001b[1m1/1\u001b[0m \u001b[32m━━━━━━━━━━━━━━━━━━━━\u001b[0m\u001b[37m\u001b[0m \u001b[1m0s\u001b[0m 62ms/step\n",
            "Predicted Probability of Sepsis: 0.1093\n",
            "Prediction: No Sepsis\n"
          ]
        }
      ],
      "source": [
        "#Predict Sepsis on New Input Data\n",
        "# run this if the  dataset is sepsis.csv\n",
        "\n",
        "new_input_data = {\n",
        "    'HR': [85],            # Heart Rate\n",
        "    'O2Sat': [95],         # Oxygen Saturation\n",
        "    'Temp': [38.1],        # Temperature (Celsius)\n",
        "    'SBP': [120],          # Systolic Blood Pressure\n",
        "    'MAP': [90],           # Mean Arterial Pressure\n",
        "    'DBP': [80],           # Diastolic Blood Pressure\n",
        "    'Resp': [18],          # Respiration rate\n",
        "    'EtCO2': [35],         # End-tidal CO2\n",
        "    'BaseExcess': [2],     # Base excess\n",
        "    'HCO3': [24],          # Bicarbonate\n",
        "    'FiO2': [0.21],        # Fraction of inspired O2\n",
        "    'pH': [7.38],          # Blood pH\n",
        "    'PaCO2': [40],         # Partial Pressure of CO2\n",
        "    'SaO2': [98],          # Arterial Oxygen Saturation\n",
        "    'AST': [20],           # Aspartate Aminotransferase\n",
        "    'BUN': [18],           # Blood Urea Nitrogen\n",
        "    'Alkalinephos': [70],  # Alkaline Phosphatase\n",
        "    'Calcium': [9.2],      # Serum Calcium\n",
        "    'Chloride': [100],     # Serum Chloride\n",
        "    'Creatinine': [1.0],   # Serum Creatinine\n",
        "    'Bilirubin_direct': [0.2],  # Direct Bilirubin\n",
        "    'Glucose': [90],       # Blood Glucose\n",
        "    'Lactate': [1.5],      # Serum Lactate\n",
        "    'Magnesium': [1.8],    # Magnesium\n",
        "    'Phosphate': [3.5],    # Phosphate\n",
        "    'Potassium': [4.2],    # Potassium\n",
        "    'Bilirubin_total': [1.0],  # Total Bilirubin\n",
        "    'TroponinI': [0.01],   # Cardiac Troponin I\n",
        "    'Hct': [45],           # Hematocrit\n",
        "    'Hgb': [14],           # Hemoglobin\n",
        "    'PTT': [30],           # Partial Thromboplastin Time\n",
        "    'WBC': [6.2],          # White Blood Cells\n",
        "    'Fibrinogen': [300],   # Fibrinogen\n",
        "    'Platelets': [250],    # Platelets count\n",
        "    'Age': [65],           # Age\n",
        "    'Gender': [1],         # Gender (1 for Male, 0 for Female)\n",
        "    'Unit1': [1],          # Unit 1 (ICU unit)\n",
        "    'Unit2': [0],          # Unit 2 (if applicable)\n",
        "    'HospAdmTime': [12],   # Hospital Admission Time\n",
        "}\n",
        "\n",
        "# Convert the input data to DataFrame\n",
        "new_input_df = pd.DataFrame(new_input_data)\n",
        "\n",
        "# Normalize the input data using the same scaler fitted on training data\n",
        "new_input_scaled = scaler.transform(new_input_df)\n",
        "\n",
        "# Create sequence from the input data (as the LSTM model requires sequences)\n",
        "# Since this is a single instance, we'll duplicate it to match the required sequence length (e.g., 12)\n",
        "sequence_length = 12\n",
        "new_input_sequence = np.tile(new_input_scaled, (sequence_length, 1)).reshape(1, sequence_length, -1)\n",
        "\n",
        "# Predict using the trained model\n",
        "predicted_proba = model.predict(new_input_sequence)  # Probability of sepsis\n",
        "\n",
        "# If probability > 0.5, sepsis is predicted, else no sepsis\n",
        "predicted_label = 'Sepsis' if predicted_proba > 0.5 else 'No Sepsis'\n",
        "\n",
        "# Output the result\n",
        "print(f\"Predicted Probability of Sepsis: {predicted_proba[0][0]:.4f}\")\n",
        "print(f\"Prediction: {predicted_label}\")"
      ]
    }
  ],
  "metadata": {
    "colab": {
      "provenance": []
    },
    "kernelspec": {
      "display_name": "Python 3",
      "name": "python3"
    },
    "language_info": {
      "name": "python"
    }
  },
  "nbformat": 4,
  "nbformat_minor": 0
}